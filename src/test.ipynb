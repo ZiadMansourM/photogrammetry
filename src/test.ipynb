{
 "cells": [
  {
   "cell_type": "code",
   "execution_count": null,
   "metadata": {},
   "outputs": [],
   "source": [
    "import open3d as o3d\n",
    "\n",
    "# Define the path to the PLY file\n",
    "file_path = f\"data/snow-man/output/point_cloud_after_clustring.ply\"\n",
    "\n",
    "# Load the point cloud from the PLY file\n",
    "point_cloud = o3d.io.read_point_cloud(file_path)\n",
    "\n",
    "# Visualize the point cloud\n",
    "o3d.visualization.draw_geometries([point_cloud])"
   ]
  }
 ],
 "metadata": {
  "language_info": {
   "name": "python"
  },
  "orig_nbformat": 4
 },
 "nbformat": 4,
 "nbformat_minor": 2
}
