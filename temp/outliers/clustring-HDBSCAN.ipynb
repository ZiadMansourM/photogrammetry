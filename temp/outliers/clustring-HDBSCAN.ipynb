{
 "cells": [
  {
   "cell_type": "code",
   "execution_count": 1,
   "metadata": {},
   "outputs": [],
   "source": [
    "import pickle\n",
    "import numpy as np\n",
    "import time\n",
    "\n",
    "import hdbscan"
   ]
  },
  {
   "cell_type": "code",
   "execution_count": 2,
   "metadata": {},
   "outputs": [],
   "source": [
    "def log_to_file(file_name: str, message: str):\n",
    "    import datetime\n",
    "    timestamp = datetime.datetime.now().strftime(\"%Y-%m-%d %H:%M:%S\")\n",
    "    log_message = f\"[{timestamp}] {message}\"\n",
    "    with open(file_name, \"a\") as f:\n",
    "        f.write(f\"{log_message}\\n\")\n",
    "\n",
    "def print_size(file_name: str, obj, obj_name=\"N/A\"):\n",
    "    from pympler import asizeof\n",
    "    memory_usage = asizeof.asizeof(obj)\n",
    "    # Convert memory usage to a more readable format\n",
    "    if memory_usage < 1024:\n",
    "        memory_usage_str = f\"{memory_usage} bytes\"\n",
    "    elif memory_usage < 1024 ** 2:\n",
    "        memory_usage_str = f\"{memory_usage / 1024} KB\"\n",
    "    elif memory_usage < 1024 ** 3:\n",
    "        memory_usage_str = f\"{memory_usage / (1024 ** 2)} MB\"\n",
    "    else:\n",
    "        memory_usage_str = f\"{memory_usage / (1024 ** 3)} GB\"\n",
    "    # Print the memory usage and object name\n",
    "    log_to_file(file_name, f\"Memory usage of {obj_name}: {memory_usage_str}\")"
   ]
  },
  {
   "cell_type": "code",
   "execution_count": 3,
   "metadata": {},
   "outputs": [],
   "source": [
    "with open(\"/Users/ziadh/Desktop/college/gp/temp/outliers/bak/core_points.pkl\", 'rb') as f:\n",
    "    points_cloud: np.ndarray = pickle.load(f)"
   ]
  },
  {
   "cell_type": "code",
   "execution_count": 4,
   "metadata": {},
   "outputs": [],
   "source": [
    "log_to_file(\"clustring.logs\", \"started processing....\")\n",
    "from sklearn.cluster import DBSCAN\n",
    "\n",
    "start_time = time.time()\n",
    "hdbscan_model = hdbscan.HDBSCAN(min_cluster_size=10).fit(points_cloud)\n",
    "end_time = time.time()\n",
    "log_to_file(\"clustring.logs\", f\"time taken: {end_time - start_time:,} seconds\")"
   ]
  },
  {
   "cell_type": "code",
   "execution_count": 5,
   "metadata": {},
   "outputs": [],
   "source": [
    "with open(\"./hdbscan_model.pkl\", 'wb') as f:\n",
    "    pickle.dump(hdbscan_model, f)"
   ]
  },
  {
   "cell_type": "code",
   "execution_count": 6,
   "metadata": {},
   "outputs": [],
   "source": [
    "print_size(\"clustring.log\", hdbscan_model, \"hdbscan_model\")"
   ]
  },
  {
   "cell_type": "code",
   "execution_count": 9,
   "metadata": {},
   "outputs": [],
   "source": [
    "# Get the cluster labels for each point\n",
    "labels = hdbscan_model.labels_\n",
    "log_to_file(\"clustring.log\", \"Labels Done...\")\n",
    "\n",
    "# Get the indices of the core points (i.e., points that are part of a dense region)\n",
    "core_indices = np.where(labels != -1)[0]\n",
    "log_to_file(\"clustring.log\", \"Core Indicies Done...\")\n",
    "\n",
    "# Get the coordinates of the core points\n",
    "core_points = points_cloud[core_indices, :]\n",
    "log_to_file(\"clustring.log\", \"Core Points Done...\")\n",
    "\n",
    "# Get the indices of the outlier points (i.e., points that are not part of any dense region)\n",
    "outlier_indices = np.where(labels == -1)[0]\n",
    "log_to_file(\"clustring.log\", \"Outlier Indicies Done...\")\n",
    "\n",
    "# Get the coordinates of the outlier points\n",
    "outlier_points = points_cloud[outlier_indices, :]\n",
    "log_to_file(\"clustring.log\", \"Outlier Points Done...\")\n",
    "\n",
    "# Log the number of clusters and the number of outlier points\n",
    "log_to_file(\"clustring.log\", f\"Number of clusters: {len(np.unique(labels))-1:,}\")\n",
    "log_to_file(\"clustring.log\", f\"Number of core points: {len(core_indices):,}\")\n",
    "log_to_file(\"clustring.log\", f\"Number of outlier points: {len(outlier_indices):,}\")\n",
    "log_to_file(\"clustring.log\", f\"Number of total points: {len(core_indices) + len(outlier_indices):,}\")"
   ]
  },
  {
   "attachments": {},
   "cell_type": "markdown",
   "metadata": {},
   "source": [
    "# Furthur analytics on the output"
   ]
  },
  {
   "cell_type": "code",
   "execution_count": null,
   "metadata": {},
   "outputs": [],
   "source": [
    "from collections import Counter\n",
    "\n",
    "log_to_file(\"clustring.log\", \"Analysis of X, Y, Z of Core Points\")\n",
    "\n",
    "log_to_file(\"clustring.log\", f\"X<{len(core_points[:,0]):,}>: {core_points[:,0].min():,} to {core_points[:,0].max():,}\")\n",
    "x_counter = Counter(core_points[:,0])\n",
    "log_to_file(\"clustring.log\", f\"We have {len(x_counter):,} unique X values\")\n",
    "log_to_file(\"clustring.log\", f\"Most Common X: {x_counter.most_common(1)}, Least Two Common X: {x_counter.most_common()[:-3:-1]}\")\n",
    "# log_to_file(\"clustring.log\", x_counter)\n",
    "log_to_file(\"clustring.log\", \"-----------------------------------------------------\")\n",
    "\n",
    "log_to_file(\"clustring.log\", f\"Y<{len(core_points[:,1]):,}>: {core_points[:,1].min():,} to {core_points[:,1].max():,}\")\n",
    "y_counter = Counter(core_points[:,1])\n",
    "log_to_file(\"clustring.log\", f\"We have {len(y_counter):,} unique Y values\")\n",
    "log_to_file(\"clustring.log\", f\"Most Common Y: {y_counter.most_common(1)}, Least Two Common Y: {y_counter.most_common()[:-3:-1]}\")\n",
    "# log_to_file(\"clustring.log\", y_counter)\n",
    "log_to_file(\"clustring.log\", \"-----------------------------------------------------\")\n",
    "\n",
    "log_to_file(\"clustring.log\", f\"Z<{len(core_points[:,2]):,}>: {core_points[:,2].min():,} to {core_points[:,2].max():,}\")\n",
    "z_counter = Counter(core_points[:,2])\n",
    "log_to_file(\"clustring.log\", f\"We have {len(z_counter):,} unique Z values\")\n",
    "log_to_file(\"clustring.log\", f\"Most Common Z: {z_counter.most_common(1)}, Least Two Common Y: {z_counter.most_common()[:-3:-1]}\")\n",
    "# log_to_file(\"clustring.log\", z_counter)\n",
    "log_to_file(\"clustring.log\", \"-----------------------------------------------------\")"
   ]
  },
  {
   "cell_type": "code",
   "execution_count": null,
   "metadata": {},
   "outputs": [],
   "source": [
    "from collections import Counter\n",
    "\n",
    "log_to_file(\"clustring.log\", \"Analysis of X, Y, Z of Outliers Points\")\n",
    "\n",
    "log_to_file(\"clustring.log\", f\"X<{len(outlier_points[:,0]):,}>: {outlier_points[:,0].min():,} to {outlier_points[:,0].max():,}\")\n",
    "x_counter = Counter(outlier_points[:,0])\n",
    "log_to_file(\"clustring.log\", f\"We have {len(x_counter):,} unique X values\")\n",
    "log_to_file(\"clustring.log\", f\"Most Common X: {x_counter.most_common(1)}, Least Two Common X: {x_counter.most_common()[:-3:-1]}\")\n",
    "# log_to_file(\"clustring.log\", x_counter)\n",
    "log_to_file(\"clustring.log\", \"-----------------------------------------------------\")\n",
    "\n",
    "log_to_file(\"clustring.log\", f\"Y<{len(outlier_points[:,1]):,}>: {outlier_points[:,1].min():,} to {outlier_points[:,1].max():,}\")\n",
    "y_counter = Counter(outlier_points[:,1])\n",
    "log_to_file(\"clustring.log\", f\"We have {len(y_counter):,} unique Y values\")\n",
    "log_to_file(\"clustring.log\", f\"Most Common Y: {y_counter.most_common(1)}, Least Two Common Y: {y_counter.most_common()[:-3:-1]}\")\n",
    "# log_to_file(\"clustring.log\", y_counter)\n",
    "log_to_file(\"clustring.log\", \"-----------------------------------------------------\")\n",
    "\n",
    "log_to_file(\"clustring.log\", f\"Z<{len(outlier_points[:,2]):,}>: {outlier_points[:,2].min():,} to {outlier_points[:,2].max():,}\")\n",
    "z_counter = Counter(outlier_points[:,2])\n",
    "log_to_file(\"clustring.log\", f\"We have {len(z_counter):,} unique Z values\")\n",
    "log_to_file(\"clustring.log\", f\"Most Common Z: {z_counter.most_common(1)}, Least Two Common Y: {z_counter.most_common()[:-3:-1]}\")\n",
    "# log_to_file(\"clustring.log\", z_counter)\n",
    "log_to_file(\"clustring.log\", \"-----------------------------------------------------\")"
   ]
  }
 ],
 "metadata": {
  "kernelspec": {
   "display_name": "dev-venv",
   "language": "python",
   "name": "python3"
  },
  "language_info": {
   "codemirror_mode": {
    "name": "ipython",
    "version": 3
   },
   "file_extension": ".py",
   "mimetype": "text/x-python",
   "name": "python",
   "nbconvert_exporter": "python",
   "pygments_lexer": "ipython3",
   "version": "3.10.4"
  },
  "orig_nbformat": 4
 },
 "nbformat": 4,
 "nbformat_minor": 2
}
